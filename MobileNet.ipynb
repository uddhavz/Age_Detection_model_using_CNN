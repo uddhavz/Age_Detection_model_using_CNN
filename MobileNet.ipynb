{
 "cells": [
  {
   "cell_type": "markdown",
   "id": "8e6d969f",
   "metadata": {},
   "source": [
    "## Age prediction using MobileNet"
   ]
  },
  {
   "cell_type": "markdown",
   "id": "c7097051",
   "metadata": {},
   "source": [
    "## Installing the packages"
   ]
  },
  {
   "cell_type": "code",
   "execution_count": 1,
   "id": "38e19b50",
   "metadata": {},
   "outputs": [],
   "source": [
    "import tensorflow.keras as K\n",
    "import pandas as pd\n",
    "import numpy as np\n",
    "import os\n",
    "import cv2\n",
    "from keras.utils import to_categorical\n",
    "from sklearn.model_selection import train_test_split"
   ]
  },
  {
   "cell_type": "markdown",
   "id": "64a42dfb",
   "metadata": {},
   "source": [
    "### Getting the data to a dataframe"
   ]
  },
  {
   "cell_type": "code",
   "execution_count": 2,
   "id": "136ce54f",
   "metadata": {},
   "outputs": [],
   "source": [
    "df = pd.read_csv('/Users/manideepakreddyaila/Downloads/archive-2/train.csv')\n",
    "df.head()\n",
    "cond_list = [df['Class'] == 'MIDDLE', df['Class'] == 'YOUNG', df['Class'] == 'OLD']\n",
    "choice_list = [1, 0, 2]\n",
    "\n",
    "df[\"index\"] = np.select(cond_list, choice_list)"
   ]
  },
  {
   "cell_type": "markdown",
   "id": "fbe218bb",
   "metadata": {},
   "source": [
    "### preprocessing the data"
   ]
  },
  {
   "cell_type": "code",
   "execution_count": 3,
   "id": "08b177eb",
   "metadata": {},
   "outputs": [
    {
     "name": "stdout",
     "output_type": "stream",
     "text": [
      "<class 'numpy.ndarray'>\n",
      "<class 'numpy.ndarray'>\n"
     ]
    }
   ],
   "source": [
    "path = \"/Users/manideepakreddyaila/Downloads/archive-2/Train\"\n",
    "images = []\n",
    "age = []\n",
    "\n",
    "for img in os.listdir(path):\n",
    "    img1 = cv2.imread(str(path) + \"/\" + str(img))\n",
    "#     img1.resize(100,100)\n",
    "    img1 = cv2.resize(img1, (70,70), interpolation = cv2.INTER_AREA)\n",
    "    img1 = cv2.cvtColor(img1,cv2.COLOR_BGR2RGB)\n",
    "    images.append(np.array(img1))\n",
    "    df1 = df[df['ID'] == str(img)]['index']\n",
    "    ages = []\n",
    "    ages.append((np.array(df1.values[0])))\n",
    "    age.append(ages)\n",
    "\n",
    "age = to_categorical(age, 3)\n",
    "age = np.array(age)\n",
    "print(type(age[0]))\n",
    "print(type(age))"
   ]
  },
  {
   "cell_type": "code",
   "execution_count": 4,
   "id": "4647b620",
   "metadata": {},
   "outputs": [],
   "source": [
    "images = np.array(images)"
   ]
  },
  {
   "cell_type": "code",
   "execution_count": 5,
   "id": "3fc15c12",
   "metadata": {},
   "outputs": [],
   "source": [
    "preprocessed_X = K.applications.resnet50.preprocess_input(images)"
   ]
  },
  {
   "cell_type": "code",
   "execution_count": 6,
   "id": "fa395a0c",
   "metadata": {},
   "outputs": [
    {
     "name": "stdout",
     "output_type": "stream",
     "text": [
      "(19906, 70, 70, 3)\n"
     ]
    }
   ],
   "source": [
    "print(preprocessed_X.shape)"
   ]
  },
  {
   "cell_type": "code",
   "execution_count": 7,
   "id": "29dd672d",
   "metadata": {},
   "outputs": [
    {
     "name": "stdout",
     "output_type": "stream",
     "text": [
      "[[[-75.939    -92.779    -87.68    ]\n",
      "  [-71.939    -89.779    -83.68    ]\n",
      "  [-68.939    -86.779    -80.68    ]\n",
      "  ...\n",
      "  [-63.939003 -79.779    -64.68    ]\n",
      "  [-70.939    -86.779    -71.68    ]\n",
      "  [-73.939    -89.779    -74.68    ]]\n",
      "\n",
      " [[-73.939    -89.779    -85.68    ]\n",
      "  [-68.939    -85.779    -80.68    ]\n",
      "  [-65.939    -83.779    -77.68    ]\n",
      "  ...\n",
      "  [-46.939003 -62.779    -47.68    ]\n",
      "  [-54.939003 -70.779    -55.68    ]\n",
      "  [-59.939003 -75.779    -60.68    ]]\n",
      "\n",
      " [[-71.939    -87.779    -82.68    ]\n",
      "  [-65.939    -82.779    -77.68    ]\n",
      "  [-62.939003 -80.779    -74.68    ]\n",
      "  ...\n",
      "  [-38.939003 -54.779    -39.68    ]\n",
      "  [-46.939003 -62.779    -47.68    ]\n",
      "  [-52.939003 -68.779    -53.68    ]]\n",
      "\n",
      " ...\n",
      "\n",
      " [[-81.939    -92.779    -81.68    ]\n",
      "  [-78.939    -88.779    -77.68    ]\n",
      "  [-74.939    -85.779    -74.68    ]\n",
      "  ...\n",
      "  [-60.939003 -71.779    -48.68    ]\n",
      "  [-60.939003 -71.779    -48.68    ]\n",
      "  [-56.939003 -67.779    -44.68    ]]\n",
      "\n",
      " [[-80.939    -91.779    -80.68    ]\n",
      "  [-77.939    -88.779    -77.68    ]\n",
      "  [-74.939    -86.779    -75.68    ]\n",
      "  ...\n",
      "  [-54.939003 -65.779    -42.68    ]\n",
      "  [-56.939003 -67.779    -44.68    ]\n",
      "  [-56.939003 -67.779    -44.68    ]]\n",
      "\n",
      " [[-83.939    -94.779    -83.68    ]\n",
      "  [-79.939    -90.779    -80.68    ]\n",
      "  [-76.939    -87.779    -76.68    ]\n",
      "  ...\n",
      "  [-48.939003 -61.779    -39.68    ]\n",
      "  [-48.939003 -60.779    -39.68    ]\n",
      "  [-47.939003 -59.779    -38.68    ]]]\n"
     ]
    }
   ],
   "source": [
    "print(preprocessed_X[0])"
   ]
  },
  {
   "cell_type": "code",
   "execution_count": 8,
   "id": "c404e2a0",
   "metadata": {},
   "outputs": [
    {
     "name": "stdout",
     "output_type": "stream",
     "text": [
      "(19906, 3)\n"
     ]
    }
   ],
   "source": [
    "print(age.shape)"
   ]
  },
  {
   "cell_type": "markdown",
   "id": "e92bfbca",
   "metadata": {},
   "source": [
    "## MobileNet Model"
   ]
  },
  {
   "cell_type": "code",
   "execution_count": 9,
   "id": "b4ac3cdc",
   "metadata": {},
   "outputs": [
    {
     "name": "stdout",
     "output_type": "stream",
     "text": [
      "WARNING:tensorflow:`input_shape` is undefined or non-square, or `rows` is not in [128, 160, 192, 224]. Weights for input shape (224, 224) will be loaded as the default.\n"
     ]
    },
    {
     "name": "stderr",
     "output_type": "stream",
     "text": [
      "2022-12-14 11:23:03.582321: I tensorflow/core/platform/cpu_feature_guard.cc:193] This TensorFlow binary is optimized with oneAPI Deep Neural Network Library (oneDNN) to use the following CPU instructions in performance-critical operations:  SSE4.1 SSE4.2\n",
      "To enable them in other operations, rebuild TensorFlow with the appropriate compiler flags.\n"
     ]
    }
   ],
   "source": [
    "inp = K.Input(shape=(70,70,3))\n",
    "res_model = K.applications.MobileNet(include_top=False, weights='imagenet', input_tensor = inp)"
   ]
  },
  {
   "cell_type": "code",
   "execution_count": 10,
   "id": "a17c8ba8",
   "metadata": {},
   "outputs": [
    {
     "name": "stdout",
     "output_type": "stream",
     "text": [
      "Model: \"mobilenet_1.00_224\"\n",
      "_________________________________________________________________\n",
      " Layer (type)                Output Shape              Param #   \n",
      "=================================================================\n",
      " input_1 (InputLayer)        [(None, 70, 70, 3)]       0         \n",
      "                                                                 \n",
      " conv1 (Conv2D)              (None, 35, 35, 32)        864       \n",
      "                                                                 \n",
      " conv1_bn (BatchNormalizatio  (None, 35, 35, 32)       128       \n",
      " n)                                                              \n",
      "                                                                 \n",
      " conv1_relu (ReLU)           (None, 35, 35, 32)        0         \n",
      "                                                                 \n",
      " conv_dw_1 (DepthwiseConv2D)  (None, 35, 35, 32)       288       \n",
      "                                                                 \n",
      " conv_dw_1_bn (BatchNormaliz  (None, 35, 35, 32)       128       \n",
      " ation)                                                          \n",
      "                                                                 \n",
      " conv_dw_1_relu (ReLU)       (None, 35, 35, 32)        0         \n",
      "                                                                 \n",
      " conv_pw_1 (Conv2D)          (None, 35, 35, 64)        2048      \n",
      "                                                                 \n",
      " conv_pw_1_bn (BatchNormaliz  (None, 35, 35, 64)       256       \n",
      " ation)                                                          \n",
      "                                                                 \n",
      " conv_pw_1_relu (ReLU)       (None, 35, 35, 64)        0         \n",
      "                                                                 \n",
      " conv_pad_2 (ZeroPadding2D)  (None, 36, 36, 64)        0         \n",
      "                                                                 \n",
      " conv_dw_2 (DepthwiseConv2D)  (None, 17, 17, 64)       576       \n",
      "                                                                 \n",
      " conv_dw_2_bn (BatchNormaliz  (None, 17, 17, 64)       256       \n",
      " ation)                                                          \n",
      "                                                                 \n",
      " conv_dw_2_relu (ReLU)       (None, 17, 17, 64)        0         \n",
      "                                                                 \n",
      " conv_pw_2 (Conv2D)          (None, 17, 17, 128)       8192      \n",
      "                                                                 \n",
      " conv_pw_2_bn (BatchNormaliz  (None, 17, 17, 128)      512       \n",
      " ation)                                                          \n",
      "                                                                 \n",
      " conv_pw_2_relu (ReLU)       (None, 17, 17, 128)       0         \n",
      "                                                                 \n",
      " conv_dw_3 (DepthwiseConv2D)  (None, 17, 17, 128)      1152      \n",
      "                                                                 \n",
      " conv_dw_3_bn (BatchNormaliz  (None, 17, 17, 128)      512       \n",
      " ation)                                                          \n",
      "                                                                 \n",
      " conv_dw_3_relu (ReLU)       (None, 17, 17, 128)       0         \n",
      "                                                                 \n",
      " conv_pw_3 (Conv2D)          (None, 17, 17, 128)       16384     \n",
      "                                                                 \n",
      " conv_pw_3_bn (BatchNormaliz  (None, 17, 17, 128)      512       \n",
      " ation)                                                          \n",
      "                                                                 \n",
      " conv_pw_3_relu (ReLU)       (None, 17, 17, 128)       0         \n",
      "                                                                 \n",
      " conv_pad_4 (ZeroPadding2D)  (None, 18, 18, 128)       0         \n",
      "                                                                 \n",
      " conv_dw_4 (DepthwiseConv2D)  (None, 8, 8, 128)        1152      \n",
      "                                                                 \n",
      " conv_dw_4_bn (BatchNormaliz  (None, 8, 8, 128)        512       \n",
      " ation)                                                          \n",
      "                                                                 \n",
      " conv_dw_4_relu (ReLU)       (None, 8, 8, 128)         0         \n",
      "                                                                 \n",
      " conv_pw_4 (Conv2D)          (None, 8, 8, 256)         32768     \n",
      "                                                                 \n",
      " conv_pw_4_bn (BatchNormaliz  (None, 8, 8, 256)        1024      \n",
      " ation)                                                          \n",
      "                                                                 \n",
      " conv_pw_4_relu (ReLU)       (None, 8, 8, 256)         0         \n",
      "                                                                 \n",
      " conv_dw_5 (DepthwiseConv2D)  (None, 8, 8, 256)        2304      \n",
      "                                                                 \n",
      " conv_dw_5_bn (BatchNormaliz  (None, 8, 8, 256)        1024      \n",
      " ation)                                                          \n",
      "                                                                 \n",
      " conv_dw_5_relu (ReLU)       (None, 8, 8, 256)         0         \n",
      "                                                                 \n",
      " conv_pw_5 (Conv2D)          (None, 8, 8, 256)         65536     \n",
      "                                                                 \n",
      " conv_pw_5_bn (BatchNormaliz  (None, 8, 8, 256)        1024      \n",
      " ation)                                                          \n",
      "                                                                 \n",
      " conv_pw_5_relu (ReLU)       (None, 8, 8, 256)         0         \n",
      "                                                                 \n",
      " conv_pad_6 (ZeroPadding2D)  (None, 9, 9, 256)         0         \n",
      "                                                                 \n",
      " conv_dw_6 (DepthwiseConv2D)  (None, 4, 4, 256)        2304      \n",
      "                                                                 \n",
      " conv_dw_6_bn (BatchNormaliz  (None, 4, 4, 256)        1024      \n",
      " ation)                                                          \n",
      "                                                                 \n",
      " conv_dw_6_relu (ReLU)       (None, 4, 4, 256)         0         \n",
      "                                                                 \n",
      " conv_pw_6 (Conv2D)          (None, 4, 4, 512)         131072    \n",
      "                                                                 \n",
      " conv_pw_6_bn (BatchNormaliz  (None, 4, 4, 512)        2048      \n",
      " ation)                                                          \n",
      "                                                                 \n",
      " conv_pw_6_relu (ReLU)       (None, 4, 4, 512)         0         \n",
      "                                                                 \n",
      " conv_dw_7 (DepthwiseConv2D)  (None, 4, 4, 512)        4608      \n",
      "                                                                 \n",
      " conv_dw_7_bn (BatchNormaliz  (None, 4, 4, 512)        2048      \n",
      " ation)                                                          \n",
      "                                                                 \n",
      " conv_dw_7_relu (ReLU)       (None, 4, 4, 512)         0         \n",
      "                                                                 \n",
      " conv_pw_7 (Conv2D)          (None, 4, 4, 512)         262144    \n",
      "                                                                 \n",
      " conv_pw_7_bn (BatchNormaliz  (None, 4, 4, 512)        2048      \n",
      " ation)                                                          \n",
      "                                                                 \n",
      " conv_pw_7_relu (ReLU)       (None, 4, 4, 512)         0         \n",
      "                                                                 \n",
      " conv_dw_8 (DepthwiseConv2D)  (None, 4, 4, 512)        4608      \n",
      "                                                                 \n",
      " conv_dw_8_bn (BatchNormaliz  (None, 4, 4, 512)        2048      \n",
      " ation)                                                          \n",
      "                                                                 \n",
      " conv_dw_8_relu (ReLU)       (None, 4, 4, 512)         0         \n",
      "                                                                 \n",
      " conv_pw_8 (Conv2D)          (None, 4, 4, 512)         262144    \n",
      "                                                                 \n",
      " conv_pw_8_bn (BatchNormaliz  (None, 4, 4, 512)        2048      \n",
      " ation)                                                          \n",
      "                                                                 \n",
      " conv_pw_8_relu (ReLU)       (None, 4, 4, 512)         0         \n",
      "                                                                 \n",
      " conv_dw_9 (DepthwiseConv2D)  (None, 4, 4, 512)        4608      \n",
      "                                                                 \n",
      " conv_dw_9_bn (BatchNormaliz  (None, 4, 4, 512)        2048      \n",
      " ation)                                                          \n",
      "                                                                 \n",
      " conv_dw_9_relu (ReLU)       (None, 4, 4, 512)         0         \n",
      "                                                                 \n",
      " conv_pw_9 (Conv2D)          (None, 4, 4, 512)         262144    \n",
      "                                                                 \n",
      " conv_pw_9_bn (BatchNormaliz  (None, 4, 4, 512)        2048      \n",
      " ation)                                                          \n",
      "                                                                 \n",
      " conv_pw_9_relu (ReLU)       (None, 4, 4, 512)         0         \n",
      "                                                                 \n",
      " conv_dw_10 (DepthwiseConv2D  (None, 4, 4, 512)        4608      \n",
      " )                                                               \n",
      "                                                                 \n",
      " conv_dw_10_bn (BatchNormali  (None, 4, 4, 512)        2048      \n",
      " zation)                                                         \n",
      "                                                                 \n",
      " conv_dw_10_relu (ReLU)      (None, 4, 4, 512)         0         \n",
      "                                                                 \n",
      " conv_pw_10 (Conv2D)         (None, 4, 4, 512)         262144    \n",
      "                                                                 \n",
      " conv_pw_10_bn (BatchNormali  (None, 4, 4, 512)        2048      \n",
      " zation)                                                         \n",
      "                                                                 \n",
      " conv_pw_10_relu (ReLU)      (None, 4, 4, 512)         0         \n",
      "                                                                 \n",
      " conv_dw_11 (DepthwiseConv2D  (None, 4, 4, 512)        4608      \n",
      " )                                                               \n",
      "                                                                 \n",
      " conv_dw_11_bn (BatchNormali  (None, 4, 4, 512)        2048      \n",
      " zation)                                                         \n",
      "                                                                 \n",
      " conv_dw_11_relu (ReLU)      (None, 4, 4, 512)         0         \n",
      "                                                                 \n",
      " conv_pw_11 (Conv2D)         (None, 4, 4, 512)         262144    \n",
      "                                                                 \n",
      " conv_pw_11_bn (BatchNormali  (None, 4, 4, 512)        2048      \n",
      " zation)                                                         \n",
      "                                                                 \n",
      " conv_pw_11_relu (ReLU)      (None, 4, 4, 512)         0         \n",
      "                                                                 \n",
      " conv_pad_12 (ZeroPadding2D)  (None, 5, 5, 512)        0         \n",
      "                                                                 \n",
      " conv_dw_12 (DepthwiseConv2D  (None, 2, 2, 512)        4608      \n",
      " )                                                               \n",
      "                                                                 \n",
      " conv_dw_12_bn (BatchNormali  (None, 2, 2, 512)        2048      \n",
      " zation)                                                         \n",
      "                                                                 \n",
      " conv_dw_12_relu (ReLU)      (None, 2, 2, 512)         0         \n",
      "                                                                 \n",
      " conv_pw_12 (Conv2D)         (None, 2, 2, 1024)        524288    \n",
      "                                                                 \n",
      " conv_pw_12_bn (BatchNormali  (None, 2, 2, 1024)       4096      \n",
      " zation)                                                         \n",
      "                                                                 \n",
      " conv_pw_12_relu (ReLU)      (None, 2, 2, 1024)        0         \n",
      "                                                                 \n",
      " conv_dw_13 (DepthwiseConv2D  (None, 2, 2, 1024)       9216      \n",
      " )                                                               \n",
      "                                                                 \n",
      " conv_dw_13_bn (BatchNormali  (None, 2, 2, 1024)       4096      \n",
      " zation)                                                         \n",
      "                                                                 \n",
      " conv_dw_13_relu (ReLU)      (None, 2, 2, 1024)        0         \n",
      "                                                                 \n",
      " conv_pw_13 (Conv2D)         (None, 2, 2, 1024)        1048576   \n",
      "                                                                 \n",
      " conv_pw_13_bn (BatchNormali  (None, 2, 2, 1024)       4096      \n",
      " zation)                                                         \n",
      "                                                                 \n",
      " conv_pw_13_relu (ReLU)      (None, 2, 2, 1024)        0         \n",
      "                                                                 \n",
      "=================================================================\n",
      "Total params: 3,228,864\n",
      "Trainable params: 3,206,976\n",
      "Non-trainable params: 21,888\n",
      "_________________________________________________________________\n"
     ]
    }
   ],
   "source": [
    "res_model.summary()"
   ]
  },
  {
   "cell_type": "code",
   "execution_count": 11,
   "id": "1e91611f",
   "metadata": {},
   "outputs": [],
   "source": [
    "model = K.models.Sequential()\n",
    "model.add(res_model)\n",
    "model.add(K.layers.Flatten())\n",
    "model.add(K.layers.BatchNormalization())\n",
    "model.add(K.layers.Dense(256, activation='relu'))\n",
    "model.add(K.layers.Dropout(0.5))\n",
    "model.add(K.layers.BatchNormalization())\n",
    "model.add(K.layers.Dense(128, activation='relu'))\n",
    "model.add(K.layers.Dropout(0.5))\n",
    "model.add(K.layers.BatchNormalization())\n",
    "model.add(K.layers.Dense(64, activation='relu'))\n",
    "model.add(K.layers.Dropout(0.5))\n",
    "model.add(K.layers.BatchNormalization())\n",
    "model.add(K.layers.Dense(3, activation='softmax'))"
   ]
  },
  {
   "cell_type": "code",
   "execution_count": 12,
   "id": "b46fadfc",
   "metadata": {},
   "outputs": [
    {
     "name": "stdout",
     "output_type": "stream",
     "text": [
      "Model: \"sequential\"\n",
      "_________________________________________________________________\n",
      " Layer (type)                Output Shape              Param #   \n",
      "=================================================================\n",
      " mobilenet_1.00_224 (Functio  (None, 2, 2, 1024)       3228864   \n",
      " nal)                                                            \n",
      "                                                                 \n",
      " flatten (Flatten)           (None, 4096)              0         \n",
      "                                                                 \n",
      " batch_normalization (BatchN  (None, 4096)             16384     \n",
      " ormalization)                                                   \n",
      "                                                                 \n",
      " dense (Dense)               (None, 256)               1048832   \n",
      "                                                                 \n",
      " dropout (Dropout)           (None, 256)               0         \n",
      "                                                                 \n",
      " batch_normalization_1 (Batc  (None, 256)              1024      \n",
      " hNormalization)                                                 \n",
      "                                                                 \n",
      " dense_1 (Dense)             (None, 128)               32896     \n",
      "                                                                 \n",
      " dropout_1 (Dropout)         (None, 128)               0         \n",
      "                                                                 \n",
      " batch_normalization_2 (Batc  (None, 128)              512       \n",
      " hNormalization)                                                 \n",
      "                                                                 \n",
      " dense_2 (Dense)             (None, 64)                8256      \n",
      "                                                                 \n",
      " dropout_2 (Dropout)         (None, 64)                0         \n",
      "                                                                 \n",
      " batch_normalization_3 (Batc  (None, 64)               256       \n",
      " hNormalization)                                                 \n",
      "                                                                 \n",
      " dense_3 (Dense)             (None, 3)                 195       \n",
      "                                                                 \n",
      "=================================================================\n",
      "Total params: 4,337,219\n",
      "Trainable params: 4,306,243\n",
      "Non-trainable params: 30,976\n",
      "_________________________________________________________________\n"
     ]
    }
   ],
   "source": [
    "model.summary()"
   ]
  },
  {
   "cell_type": "code",
   "execution_count": 13,
   "id": "0429735c",
   "metadata": {},
   "outputs": [
    {
     "name": "stderr",
     "output_type": "stream",
     "text": [
      "/Users/manideepakreddyaila/opt/anaconda3/lib/python3.9/site-packages/keras/optimizers/optimizer_v2/rmsprop.py:135: UserWarning: The `lr` argument is deprecated, use `learning_rate` instead.\n",
      "  super(RMSprop, self).__init__(name, **kwargs)\n"
     ]
    }
   ],
   "source": [
    "model.compile(loss='categorical_crossentropy',\n",
    "                  optimizer=K.optimizers.RMSprop(lr=2e-5),\n",
    "                  metrics=['accuracy'])"
   ]
  },
  {
   "cell_type": "markdown",
   "id": "11348ddd",
   "metadata": {},
   "source": [
    "### Train Test split"
   ]
  },
  {
   "cell_type": "code",
   "execution_count": 14,
   "id": "900cd228",
   "metadata": {},
   "outputs": [],
   "source": [
    "X_train, X_test, y_train, y_test = train_test_split(preprocessed_X, age, random_state=42)"
   ]
  },
  {
   "cell_type": "markdown",
   "id": "776db938",
   "metadata": {},
   "source": [
    "### Fitting the model"
   ]
  },
  {
   "cell_type": "code",
   "execution_count": 15,
   "id": "88d9baef",
   "metadata": {},
   "outputs": [
    {
     "name": "stdout",
     "output_type": "stream",
     "text": [
      "Epoch 1/30\n",
      "467/467 [==============================] - 135s 283ms/step - loss: 1.5132 - accuracy: 0.3351 - val_loss: 0.9740 - val_accuracy: 0.5353\n",
      "Epoch 2/30\n",
      "467/467 [==============================] - 137s 293ms/step - loss: 1.4062 - accuracy: 0.3768 - val_loss: 0.9275 - val_accuracy: 0.5821\n",
      "Epoch 3/30\n",
      "467/467 [==============================] - 137s 293ms/step - loss: 1.3114 - accuracy: 0.4064 - val_loss: 0.8892 - val_accuracy: 0.6076\n",
      "Epoch 4/30\n",
      "467/467 [==============================] - 149s 318ms/step - loss: 1.2657 - accuracy: 0.4310 - val_loss: 0.8611 - val_accuracy: 0.6313\n",
      "Epoch 5/30\n",
      "467/467 [==============================] - 268s 575ms/step - loss: 1.2033 - accuracy: 0.4612 - val_loss: 0.8368 - val_accuracy: 0.6476\n",
      "Epoch 6/30\n",
      "467/467 [==============================] - 292s 625ms/step - loss: 1.1292 - accuracy: 0.4975 - val_loss: 0.8095 - val_accuracy: 0.6651\n",
      "Epoch 7/30\n",
      "467/467 [==============================] - 289s 619ms/step - loss: 1.0748 - accuracy: 0.5216 - val_loss: 0.7916 - val_accuracy: 0.6795\n",
      "Epoch 8/30\n",
      "467/467 [==============================] - 278s 596ms/step - loss: 1.0340 - accuracy: 0.5454 - val_loss: 0.7729 - val_accuracy: 0.6860\n",
      "Epoch 9/30\n",
      "467/467 [==============================] - 276s 591ms/step - loss: 0.9901 - accuracy: 0.5710 - val_loss: 0.7610 - val_accuracy: 0.6944\n",
      "Epoch 10/30\n",
      "467/467 [==============================] - 275s 589ms/step - loss: 0.9513 - accuracy: 0.5963 - val_loss: 0.7486 - val_accuracy: 0.6950\n",
      "Epoch 11/30\n",
      "467/467 [==============================] - 1158s 2s/step - loss: 0.9298 - accuracy: 0.6124 - val_loss: 0.7341 - val_accuracy: 0.7004\n",
      "Epoch 12/30\n",
      "467/467 [==============================] - 349s 748ms/step - loss: 0.8751 - accuracy: 0.6367 - val_loss: 0.7178 - val_accuracy: 0.7117\n",
      "Epoch 13/30\n",
      "467/467 [==============================] - 339s 725ms/step - loss: 0.8473 - accuracy: 0.6578 - val_loss: 0.7053 - val_accuracy: 0.7155\n",
      "Epoch 14/30\n",
      "467/467 [==============================] - 333s 713ms/step - loss: 0.8309 - accuracy: 0.6710 - val_loss: 0.6922 - val_accuracy: 0.7217\n",
      "Epoch 15/30\n",
      "467/467 [==============================] - 253s 540ms/step - loss: 0.7994 - accuracy: 0.6851 - val_loss: 0.6860 - val_accuracy: 0.7231\n",
      "Epoch 16/30\n",
      "467/467 [==============================] - 187s 400ms/step - loss: 0.7713 - accuracy: 0.6964 - val_loss: 0.6745 - val_accuracy: 0.7314\n",
      "Epoch 17/30\n",
      "467/467 [==============================] - 137s 293ms/step - loss: 0.7358 - accuracy: 0.7146 - val_loss: 0.6643 - val_accuracy: 0.7358\n",
      "Epoch 18/30\n",
      "467/467 [==============================] - 160s 342ms/step - loss: 0.7170 - accuracy: 0.7224 - val_loss: 0.6543 - val_accuracy: 0.7362\n",
      "Epoch 19/30\n",
      "467/467 [==============================] - 134s 287ms/step - loss: 0.7064 - accuracy: 0.7330 - val_loss: 0.6427 - val_accuracy: 0.7430\n",
      "Epoch 20/30\n",
      "467/467 [==============================] - 136s 291ms/step - loss: 0.6604 - accuracy: 0.7455 - val_loss: 0.6391 - val_accuracy: 0.7412\n",
      "Epoch 21/30\n",
      "467/467 [==============================] - 136s 292ms/step - loss: 0.6424 - accuracy: 0.7539 - val_loss: 0.6307 - val_accuracy: 0.7513\n",
      "Epoch 22/30\n",
      "467/467 [==============================] - 138s 295ms/step - loss: 0.6204 - accuracy: 0.7651 - val_loss: 0.6266 - val_accuracy: 0.7490\n",
      "Epoch 23/30\n",
      "467/467 [==============================] - 696s 1s/step - loss: 0.5866 - accuracy: 0.7822 - val_loss: 0.6193 - val_accuracy: 0.7537\n",
      "Epoch 24/30\n",
      "467/467 [==============================] - 120s 257ms/step - loss: 0.5722 - accuracy: 0.7855 - val_loss: 0.6163 - val_accuracy: 0.7501\n",
      "Epoch 25/30\n",
      "467/467 [==============================] - 129s 276ms/step - loss: 0.5394 - accuracy: 0.7987 - val_loss: 0.6134 - val_accuracy: 0.7565\n",
      "Epoch 26/30\n",
      "467/467 [==============================] - 133s 284ms/step - loss: 0.5178 - accuracy: 0.8124 - val_loss: 0.6121 - val_accuracy: 0.7539\n",
      "Epoch 27/30\n",
      "467/467 [==============================] - 134s 287ms/step - loss: 0.4975 - accuracy: 0.8179 - val_loss: 0.6050 - val_accuracy: 0.7623\n",
      "Epoch 28/30\n",
      "467/467 [==============================] - 135s 289ms/step - loss: 0.4614 - accuracy: 0.8329 - val_loss: 0.6090 - val_accuracy: 0.7625\n",
      "Epoch 29/30\n",
      "467/467 [==============================] - 136s 291ms/step - loss: 0.4499 - accuracy: 0.8351 - val_loss: 0.6103 - val_accuracy: 0.7589\n",
      "Epoch 30/30\n",
      "467/467 [==============================] - 136s 292ms/step - loss: 0.4249 - accuracy: 0.8445 - val_loss: 0.6098 - val_accuracy: 0.7609\n"
     ]
    }
   ],
   "source": [
    "history = model.fit(X_train, y_train, batch_size=32, epochs=30, verbose=1,\n",
    "                        validation_data=(X_test, y_test))"
   ]
  },
  {
   "cell_type": "code",
   "execution_count": 19,
   "id": "6597943b",
   "metadata": {},
   "outputs": [
    {
     "data": {
      "image/png": "[encoded data removed]",
      "text/plain": [
       "<Figure size 432x288 with 1 Axes>"
      ]
     },
     "metadata": {
      "needs_background": "light"
     },
     "output_type": "display_data"
    }
   ],
   "source": [
    "import matplotlib.pyplot as plt\n",
    "loss = history.history['loss']\n",
    "val_loss = history.history['val_loss']\n",
    "epochs = range(1, len(loss) + 1)\n",
    "plt.plot(epochs, loss, 'y', label='Training loss')\n",
    "plt.plot(epochs, val_loss, 'r', label='Validation loss')\n",
    "plt.title('Training and validation loss')\n",
    "plt.xlabel('Epochs')\n",
    "plt.ylabel('Loss')\n",
    "plt.legend()\n",
    "plt.show()"
   ]
  },
  {
   "cell_type": "code",
   "execution_count": 20,
   "id": "8bea5d10",
   "metadata": {},
   "outputs": [
    {
     "data": {
      "image/png": "[encoded data removed]",
      "text/plain": [
       "<Figure size 432x288 with 1 Axes>"
      ]
     },
     "metadata": {
      "needs_background": "light"
     },
     "output_type": "display_data"
    }
   ],
   "source": [
    "acc = history.history['accuracy']\n",
    "val_acc = history.history['val_accuracy']\n",
    "\n",
    "plt.plot(epochs, acc, 'y', label='Training acc')\n",
    "plt.plot(epochs, val_acc, 'r', label='Validation acc')\n",
    "plt.title('Training and validation accuracy')\n",
    "plt.xlabel('Epochs')\n",
    "plt.ylabel('Accuracy')\n",
    "plt.legend()\n",
    "plt.show()"
   ]
  },
  {
   "cell_type": "code",
   "execution_count": null,
   "id": "081328f8",
   "metadata": {},
   "outputs": [],
   "source": []
  },
  {
   "cell_type": "code",
   "execution_count": null,
   "id": "15a1dd46",
   "metadata": {},
   "outputs": [],
   "source": []
  },
  {
   "cell_type": "code",
   "execution_count": null,
   "id": "77a8919d",
   "metadata": {},
   "outputs": [],
   "source": []
  },
  {
   "cell_type": "code",
   "execution_count": null,
   "id": "73589dc0",
   "metadata": {},
   "outputs": [],
   "source": []
  },
  {
   "cell_type": "code",
   "execution_count": null,
   "id": "b48ec53d",
   "metadata": {},
   "outputs": [],
   "source": []
  },
  {
   "cell_type": "code",
   "execution_count": null,
   "id": "e55e597f",
   "metadata": {},
   "outputs": [],
   "source": []
  },
  {
   "cell_type": "code",
   "execution_count": null,
   "id": "d25d6b83",
   "metadata": {},
   "outputs": [],
   "source": []
  },
  {
   "cell_type": "code",
   "execution_count": null,
   "id": "89146517",
   "metadata": {},
   "outputs": [],
   "source": []
  },
  {
   "cell_type": "code",
   "execution_count": null,
   "id": "7d29193e",
   "metadata": {},
   "outputs": [],
   "source": []
  },
  {
   "cell_type": "code",
   "execution_count": null,
   "id": "b118a4ad",
   "metadata": {},
   "outputs": [],
   "source": []
  },
  {
   "cell_type": "code",
   "execution_count": null,
   "id": "ea0b28ca",
   "metadata": {},
   "outputs": [],
   "source": []
  },
  {
   "cell_type": "code",
   "execution_count": null,
   "id": "a1351a12",
   "metadata": {},
   "outputs": [],
   "source": []
  }
 ],
 "metadata": {
  "kernelspec": {
   "display_name": "Python 3 (ipykernel)",
   "language": "python",
   "name": "python3"
  },
  "language_info": {
   "codemirror_mode": {
    "name": "ipython",
    "version": 3
   },
   "file_extension": ".py",
   "mimetype": "text/x-python",
   "name": "python",
   "nbconvert_exporter": "python",
   "pygments_lexer": "ipython3",
   "version": "3.9.12"
  }
 },
 "nbformat": 4,
 "nbformat_minor": 5
}
