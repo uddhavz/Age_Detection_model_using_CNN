{
 "cells": [
  {
   "cell_type": "markdown",
   "id": "fb609f46",
   "metadata": {},
   "source": [
    "## Age prediction using CNN built from scratch"
   ]
  },
  {
   "cell_type": "markdown",
   "id": "ff398624",
   "metadata": {},
   "source": [
    "## Installing the packages"
   ]
  },
  {
   "cell_type": "code",
   "execution_count": 1,
   "id": "36945bc8",
   "metadata": {},
   "outputs": [
    {
     "name": "stdout",
     "output_type": "stream",
     "text": [
      "Requirement already satisfied: opencv-python in /Users/manideepakreddyaila/opt/anaconda3/lib/python3.9/site-packages (4.6.0.66)\n",
      "Requirement already satisfied: numpy>=1.19.3 in /Users/manideepakreddyaila/opt/anaconda3/lib/python3.9/site-packages (from opencv-python) (1.21.5)\n"
     ]
    }
   ],
   "source": [
    "!pip install opencv-python"
   ]
  },
  {
   "cell_type": "code",
   "execution_count": 19,
   "id": "d2626742",
   "metadata": {},
   "outputs": [],
   "source": [
    "import pandas as pd\n",
    "import numpy as np\n",
    "import seaborn as sns\n",
    "import os\n",
    "import tensorflow as tf\n",
    "import matplotlib.pyplot as plt\n",
    "import cv2\n",
    "from keras.models import Sequential,load_model,Model\n",
    "from keras.utils import to_categorical\n",
    "from keras.layers import Conv2D,MaxPool2D,Dense,Dropout,BatchNormalization,Flatten,Input\n",
    "from sklearn.model_selection import train_test_split"
   ]
  },
  {
   "cell_type": "markdown",
   "id": "634737c7",
   "metadata": {},
   "source": [
    "### Getting the data to a dataframe"
   ]
  },
  {
   "cell_type": "code",
   "execution_count": 3,
   "id": "7cc0cb22",
   "metadata": {},
   "outputs": [],
   "source": [
    "df = pd.read_csv('/Users/manideepakreddyaila/Downloads/archive-2/train.csv')\n",
    "df.head()\n",
    "cond_list = [df['Class'] == 'MIDDLE', df['Class'] == 'YOUNG', df['Class'] == 'OLD']\n",
    "choice_list = [1, 0, 2]\n",
    "\n",
    "df[\"index\"] = np.select(cond_list, choice_list)"
   ]
  },
  {
   "cell_type": "markdown",
   "id": "1e0465f5",
   "metadata": {},
   "source": [
    "### Count plot of the output variables"
   ]
  },
  {
   "cell_type": "code",
   "execution_count": 20,
   "id": "df9153a6",
   "metadata": {},
   "outputs": [
    {
     "name": "stderr",
     "output_type": "stream",
     "text": [
      "/Users/manideepakreddyaila/opt/anaconda3/lib/python3.9/site-packages/seaborn/_decorators.py:36: FutureWarning: Pass the following variable as a keyword arg: x. From version 0.12, the only valid positional argument will be `data`, and passing other arguments without an explicit keyword will result in an error or misinterpretation.\n",
      "  warnings.warn(\n"
     ]
    },
    {
     "data": {
      "text/plain": [
       "<AxesSubplot:xlabel='Class', ylabel='count'>"
      ]
     },
     "execution_count": 20,
     "metadata": {},
     "output_type": "execute_result"
    },
    {
     "data": {
      "image/png": "[encoded data removed]",
      "text/plain": [
       "<Figure size 432x288 with 1 Axes>"
      ]
     },
     "metadata": {
      "needs_background": "light"
     },
     "output_type": "display_data"
    }
   ],
   "source": [
    "sns.countplot(df['Class'])"
   ]
  },
  {
   "cell_type": "code",
   "execution_count": 4,
   "id": "3f0a6f7b",
   "metadata": {},
   "outputs": [
    {
     "data": {
      "text/plain": [
       "ID       object\n",
       "Class    object\n",
       "index     int64\n",
       "dtype: object"
      ]
     },
     "execution_count": 4,
     "metadata": {},
     "output_type": "execute_result"
    }
   ],
   "source": [
    "df.dtypes"
   ]
  },
  {
   "cell_type": "markdown",
   "id": "be81f138",
   "metadata": {},
   "source": [
    "### preprocessing the data"
   ]
  },
  {
   "cell_type": "code",
   "execution_count": 5,
   "id": "edc4d438",
   "metadata": {},
   "outputs": [
    {
     "name": "stdout",
     "output_type": "stream",
     "text": [
      "<class 'numpy.ndarray'>\n",
      "<class 'numpy.ndarray'>\n"
     ]
    }
   ],
   "source": [
    "path = \"/Users/manideepakreddyaila/Downloads/archive-2/Train\"\n",
    "images = []\n",
    "age = []\n",
    "\n",
    "for img in os.listdir(path):\n",
    "    img1 = cv2.imread(str(path) + \"/\" + str(img))\n",
    "    img1 = cv2.resize(img1, (70,70), interpolation = cv2.INTER_AREA)\n",
    "    img1 = cv2.cvtColor(img1,cv2.COLOR_BGR2RGB)\n",
    "    images.append(np.array(img1))\n",
    "    df1 = df[df['ID'] == str(img)]['index']\n",
    "    ages = []\n",
    "    ages.append((np.array(df1.values[0])))\n",
    "    age.append(ages)\n",
    "\n",
    "age = to_categorical(age, 3)\n",
    "age = np.array(age)\n",
    "print(type(age[0]))\n",
    "print(type(age))"
   ]
  },
  {
   "cell_type": "code",
   "execution_count": 6,
   "id": "309defd2",
   "metadata": {},
   "outputs": [
    {
     "name": "stdout",
     "output_type": "stream",
     "text": [
      "[1. 0. 0.]\n"
     ]
    }
   ],
   "source": [
    "print(age[0])"
   ]
  },
  {
   "cell_type": "code",
   "execution_count": 7,
   "id": "46153b55",
   "metadata": {},
   "outputs": [],
   "source": [
    "images = np.array(images)"
   ]
  },
  {
   "cell_type": "markdown",
   "id": "4eea34c6",
   "metadata": {},
   "source": [
    "### Test Train split"
   ]
  },
  {
   "cell_type": "code",
   "execution_count": 8,
   "id": "3fe1a327",
   "metadata": {},
   "outputs": [],
   "source": [
    "X_train_age, X_test_age, y_train_age, y_test_age = train_test_split(images, age, random_state=42)"
   ]
  },
  {
   "cell_type": "code",
   "execution_count": 9,
   "id": "157d0b5f",
   "metadata": {},
   "outputs": [
    {
     "name": "stdout",
     "output_type": "stream",
     "text": [
      "(14929, 70, 70, 3)\n",
      "(70, 70, 3)\n",
      "<class 'numpy.ndarray'>\n"
     ]
    }
   ],
   "source": [
    "print((X_train_age).shape)\n",
    "print(X_train_age[0].shape)\n",
    "print(type(X_test_age))"
   ]
  },
  {
   "cell_type": "markdown",
   "id": "dfd0f44b",
   "metadata": {},
   "source": [
    "### Creating model"
   ]
  },
  {
   "cell_type": "code",
   "execution_count": 10,
   "id": "3df4b9de",
   "metadata": {},
   "outputs": [
    {
     "name": "stdout",
     "output_type": "stream",
     "text": [
      "Model: \"sequential\"\n",
      "_________________________________________________________________\n",
      " Layer (type)                Output Shape              Param #   \n",
      "=================================================================\n",
      " conv2d (Conv2D)             (None, 68, 68, 64)        1792      \n",
      "                                                                 \n",
      " max_pooling2d (MaxPooling2D  (None, 33, 33, 64)       0         \n",
      " )                                                               \n",
      "                                                                 \n",
      " conv2d_1 (Conv2D)           (None, 31, 31, 64)        36928     \n",
      "                                                                 \n",
      " max_pooling2d_1 (MaxPooling  (None, 15, 15, 64)       0         \n",
      " 2D)                                                             \n",
      "                                                                 \n",
      " conv2d_2 (Conv2D)           (None, 13, 13, 128)       73856     \n",
      "                                                                 \n",
      " max_pooling2d_2 (MaxPooling  (None, 6, 6, 128)        0         \n",
      " 2D)                                                             \n",
      "                                                                 \n",
      " conv2d_3 (Conv2D)           (None, 4, 4, 256)         295168    \n"
     ]
    },
    {
     "name": "stderr",
     "output_type": "stream",
     "text": [
      "2022-12-14 11:32:34.037713: I tensorflow/core/platform/cpu_feature_guard.cc:193] This TensorFlow binary is optimized with oneAPI Deep Neural Network Library (oneDNN) to use the following CPU instructions in performance-critical operations:  SSE4.1 SSE4.2\n",
      "To enable them in other operations, rebuild TensorFlow with the appropriate compiler flags.\n"
     ]
    },
    {
     "name": "stdout",
     "output_type": "stream",
     "text": [
      "                                                                 \n",
      " max_pooling2d_3 (MaxPooling  (None, 1, 1, 256)        0         \n",
      " 2D)                                                             \n",
      "                                                                 \n",
      " flatten (Flatten)           (None, 256)               0         \n",
      "                                                                 \n",
      " dropout (Dropout)           (None, 256)               0         \n",
      "                                                                 \n",
      " dense (Dense)               (None, 512)               131584    \n",
      "                                                                 \n",
      " age (Dense)                 (None, 3)                 1539      \n",
      "                                                                 \n",
      "=================================================================\n",
      "Total params: 540,867\n",
      "Trainable params: 540,867\n",
      "Non-trainable params: 0\n",
      "_________________________________________________________________\n",
      "None\n"
     ]
    }
   ],
   "source": [
    "age_model = Sequential()\n",
    "age_model.add(Conv2D(64, kernel_size=3, activation='relu', input_shape=(70,70,3)))\n",
    "#age_model.add(Conv2D(128, kernel_size=3, activation='relu'))\n",
    "age_model.add(MaxPool2D(pool_size=3, strides=2))\n",
    "\n",
    "age_model.add(Conv2D(64, kernel_size=3, activation='relu'))\n",
    "#age_model.add(Conv2D(128, kernel_size=3, activation='relu'))\n",
    "age_model.add(MaxPool2D(pool_size=3, strides=2))\n",
    "              \n",
    "age_model.add(Conv2D(128, kernel_size=3, activation='relu'))\n",
    "#age_model.add(Conv2D(256, kernel_size=3, activation='relu'))\n",
    "age_model.add(MaxPool2D(pool_size=3, strides=2))\n",
    "\n",
    "age_model.add(Conv2D(256, kernel_size=3, activation='relu'))\n",
    "#age_model.add(Conv2D(512, kernel_size=3, activation='relu'))\n",
    "age_model.add(MaxPool2D(pool_size=3, strides=2))\n",
    "\n",
    "age_model.add(Flatten())\n",
    "age_model.add(Dropout(0.2))\n",
    "age_model.add(Dense(512, activation='relu'))\n",
    "\n",
    "age_model.add(Dense(3, activation='softmax', name='age'))\n",
    "              \n",
    "age_model.compile(optimizer='adam', loss='mse', metrics=['mae'])\n",
    "print(age_model.summary())"
   ]
  },
  {
   "cell_type": "code",
   "execution_count": 11,
   "id": "c0e934a5",
   "metadata": {},
   "outputs": [],
   "source": [
    "X_train_age = X_train_age/255\n",
    "X_test_age = X_test_age/255"
   ]
  },
  {
   "cell_type": "code",
   "execution_count": 12,
   "id": "19ed26a3",
   "metadata": {},
   "outputs": [
    {
     "name": "stdout",
     "output_type": "stream",
     "text": [
      "<class 'numpy.ndarray'>\n"
     ]
    }
   ],
   "source": [
    "print(type(X_train_age))"
   ]
  },
  {
   "cell_type": "code",
   "execution_count": 13,
   "id": "4132d166",
   "metadata": {},
   "outputs": [
    {
     "name": "stdout",
     "output_type": "stream",
     "text": [
      "<class 'numpy.ndarray'>\n"
     ]
    }
   ],
   "source": [
    "print(type(y_train_age))"
   ]
  },
  {
   "cell_type": "code",
   "execution_count": 14,
   "id": "abc27c39",
   "metadata": {},
   "outputs": [
    {
     "data": {
      "text/plain": [
       "array([1., 0., 0.], dtype=float32)"
      ]
     },
     "execution_count": 14,
     "metadata": {},
     "output_type": "execute_result"
    }
   ],
   "source": [
    "y_train_age[0]"
   ]
  },
  {
   "cell_type": "code",
   "execution_count": 15,
   "id": "3ca2aa33",
   "metadata": {},
   "outputs": [],
   "source": [
    "age_model.compile(loss='categorical_crossentropy',\n",
    "              optimizer='adam',\n",
    "              metrics=['accuracy'])"
   ]
  },
  {
   "cell_type": "markdown",
   "id": "d042249f",
   "metadata": {},
   "source": [
    "### Fitting the model"
   ]
  },
  {
   "cell_type": "code",
   "execution_count": 16,
   "id": "28aa01d2",
   "metadata": {},
   "outputs": [
    {
     "name": "stdout",
     "output_type": "stream",
     "text": [
      "Epoch 1/20\n",
      "467/467 [==============================] - 156s 332ms/step - loss: 0.8992 - accuracy: 0.5801 - val_loss: 0.8223 - val_accuracy: 0.6502\n",
      "Epoch 2/20\n",
      "467/467 [==============================] - 157s 337ms/step - loss: 0.7753 - accuracy: 0.6727 - val_loss: 0.7633 - val_accuracy: 0.6787\n",
      "Epoch 3/20\n",
      "467/467 [==============================] - 165s 354ms/step - loss: 0.7302 - accuracy: 0.6878 - val_loss: 0.7172 - val_accuracy: 0.6908\n",
      "Epoch 4/20\n",
      "467/467 [==============================] - 158s 339ms/step - loss: 0.6951 - accuracy: 0.7037 - val_loss: 0.6913 - val_accuracy: 0.7062\n",
      "Epoch 5/20\n",
      "467/467 [==============================] - 160s 343ms/step - loss: 0.6654 - accuracy: 0.7173 - val_loss: 0.6903 - val_accuracy: 0.6932\n",
      "Epoch 6/20\n",
      "467/467 [==============================] - 152s 325ms/step - loss: 0.6398 - accuracy: 0.7310 - val_loss: 0.6612 - val_accuracy: 0.7163\n",
      "Epoch 7/20\n",
      "467/467 [==============================] - 150s 322ms/step - loss: 0.6218 - accuracy: 0.7391 - val_loss: 0.6910 - val_accuracy: 0.7091\n",
      "Epoch 8/20\n",
      "467/467 [==============================] - 148s 317ms/step - loss: 0.5900 - accuracy: 0.7529 - val_loss: 0.6394 - val_accuracy: 0.7344\n",
      "Epoch 9/20\n",
      "467/467 [==============================] - 143s 307ms/step - loss: 0.5785 - accuracy: 0.7575 - val_loss: 0.6232 - val_accuracy: 0.7330\n",
      "Epoch 10/20\n",
      "467/467 [==============================] - 146s 313ms/step - loss: 0.5504 - accuracy: 0.7724 - val_loss: 0.5992 - val_accuracy: 0.7460\n",
      "Epoch 11/20\n",
      "467/467 [==============================] - 146s 314ms/step - loss: 0.5237 - accuracy: 0.7873 - val_loss: 0.6174 - val_accuracy: 0.7394\n",
      "Epoch 12/20\n",
      "467/467 [==============================] - 1031s 2s/step - loss: 0.5101 - accuracy: 0.7867 - val_loss: 0.5981 - val_accuracy: 0.7486\n",
      "Epoch 13/20\n",
      "467/467 [==============================] - 124s 266ms/step - loss: 0.4831 - accuracy: 0.8009 - val_loss: 0.6460 - val_accuracy: 0.7368\n",
      "Epoch 14/20\n",
      "467/467 [==============================] - 250s 536ms/step - loss: 0.4687 - accuracy: 0.8053 - val_loss: 0.6115 - val_accuracy: 0.7436\n",
      "Epoch 15/20\n",
      "467/467 [==============================] - 243s 520ms/step - loss: 0.4507 - accuracy: 0.8166 - val_loss: 0.5955 - val_accuracy: 0.7486\n",
      "Epoch 16/20\n",
      "467/467 [==============================] - 246s 527ms/step - loss: 0.4187 - accuracy: 0.8315 - val_loss: 0.5955 - val_accuracy: 0.7599\n",
      "Epoch 17/20\n",
      "467/467 [==============================] - 237s 507ms/step - loss: 0.4075 - accuracy: 0.8331 - val_loss: 0.5850 - val_accuracy: 0.7619\n",
      "Epoch 18/20\n",
      "467/467 [==============================] - 144s 307ms/step - loss: 0.3978 - accuracy: 0.8392 - val_loss: 0.6400 - val_accuracy: 0.7380\n",
      "Epoch 19/20\n",
      "467/467 [==============================] - 124s 265ms/step - loss: 0.3622 - accuracy: 0.8541 - val_loss: 0.5971 - val_accuracy: 0.7726\n",
      "Epoch 20/20\n",
      "467/467 [==============================] - 124s 265ms/step - loss: 0.3530 - accuracy: 0.8577 - val_loss: 0.6532 - val_accuracy: 0.7675\n"
     ]
    }
   ],
   "source": [
    "hist = age_model.fit(X_train_age, y_train_age, epochs=20, validation_data= (X_test_age, y_test_age) )"
   ]
  },
  {
   "cell_type": "code",
   "execution_count": 17,
   "id": "fdc2256b",
   "metadata": {},
   "outputs": [
    {
     "data": {
      "image/png": "[encoded data removed]",
      "text/plain": [
       "<Figure size 432x288 with 1 Axes>"
      ]
     },
     "metadata": {
      "needs_background": "light"
     },
     "output_type": "display_data"
    }
   ],
   "source": [
    "loss = hist.history['loss']\n",
    "val_loss = hist.history['val_loss']\n",
    "epochs = range(1, len(loss) + 1)\n",
    "plt.plot(epochs, loss, 'y', label='Training loss')\n",
    "plt.plot(epochs, val_loss, 'r', label='Validation loss')\n",
    "plt.title('Training and validation loss')\n",
    "plt.xlabel('Epochs')\n",
    "plt.ylabel('Loss')\n",
    "plt.legend()\n",
    "plt.show()"
   ]
  },
  {
   "cell_type": "code",
   "execution_count": 18,
   "id": "4815c891",
   "metadata": {},
   "outputs": [
    {
     "data": {
      "image/png": "[encoded data removed]",
      "text/plain": [
       "<Figure size 432x288 with 1 Axes>"
      ]
     },
     "metadata": {
      "needs_background": "light"
     },
     "output_type": "display_data"
    }
   ],
   "source": [
    "acc = hist.history['accuracy']\n",
    "val_acc = hist.history['val_accuracy']\n",
    "\n",
    "plt.plot(epochs, acc, 'y', label='Training acc')\n",
    "plt.plot(epochs, val_acc, 'r', label='Validation acc')\n",
    "plt.title('Training and validation accuracy')\n",
    "plt.xlabel('Epochs')\n",
    "plt.ylabel('Accuracy')\n",
    "plt.legend()\n",
    "plt.show()"
   ]
  }
 ],
 "metadata": {
  "kernelspec": {
   "display_name": "Python 3 (ipykernel)",
   "language": "python",
   "name": "python3"
  },
  "language_info": {
   "codemirror_mode": {
    "name": "ipython",
    "version": 3
   },
   "file_extension": ".py",
   "mimetype": "text/x-python",
   "name": "python",
   "nbconvert_exporter": "python",
   "pygments_lexer": "ipython3",
   "version": "3.9.12"
  }
 },
 "nbformat": 4,
 "nbformat_minor": 5
}
